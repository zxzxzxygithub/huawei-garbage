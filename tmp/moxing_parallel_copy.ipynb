{
 "cells": [
  {
   "cell_type": "code",
   "execution_count": 6,
   "metadata": {},
   "outputs": [],
   "source": [
    "bucketUrl = 'xian-zyx-123/train_data_set/data'"
   ]
  },
  {
   "cell_type": "code",
   "execution_count": 3,
   "metadata": {},
   "outputs": [],
   "source": [
    "import moxing as mox"
   ]
  },
  {
   "cell_type": "code",
   "execution_count": 7,
   "metadata": {},
   "outputs": [
    {
     "name": "stdout",
     "output_type": "stream",
     "text": [
      "s3://xian-zyx-123/train_data_set/data\n"
     ]
    }
   ],
   "source": [
    "print( \"s3://\"+bucketUrl)"
   ]
  },
  {
   "cell_type": "code",
   "execution_count": 9,
   "metadata": {},
   "outputs": [
    {
     "name": "stderr",
     "output_type": "stream",
     "text": [
      "INFO:root:Listing OBS: 1000\n",
      "INFO:root:Listing OBS: 2000\n",
      "INFO:root:Listing OBS: 3000\n",
      "INFO:root:pid: None.\t1000/3731\n",
      "INFO:root:pid: None.\t2000/3731\n",
      "INFO:root:pid: None.\t3000/3731\n"
     ]
    }
   ],
   "source": [
    "mox.file.copy_parallel(\n",
    "    \"s3://\"+bucketUrl, \n",
    "    './givenDir')"
   ]
  },
  {
   "cell_type": "code",
   "execution_count": 11,
   "metadata": {},
   "outputs": [
    {
     "name": "stderr",
     "output_type": "stream",
     "text": [
      "INFO:root:pid: None.\t1000/16200\n",
      "INFO:root:pid: None.\t2000/16200\n",
      "INFO:root:pid: None.\t3000/16200\n",
      "INFO:root:pid: None.\t4000/16200\n",
      "INFO:root:pid: None.\t5000/16200\n",
      "INFO:root:pid: None.\t6000/16200\n",
      "INFO:root:pid: None.\t7000/16200\n",
      "INFO:root:pid: None.\t8000/16200\n",
      "INFO:root:pid: None.\t9000/16200\n",
      "INFO:root:pid: None.\t10000/16200\n",
      "INFO:root:pid: None.\t11000/16200\n",
      "INFO:root:pid: None.\t12000/16200\n",
      "INFO:root:pid: None.\t13000/16200\n",
      "INFO:root:pid: None.\t14000/16200\n",
      "INFO:root:pid: None.\t15000/16200\n",
      "INFO:root:pid: None.\t16000/16200\n"
     ]
    }
   ],
   "source": [
    "upBucketUrl = 'xian-zyx-123/train_data_set/dataset1204'\n",
    "mox.file.copy_parallel(\n",
    "    './givenDir',  \"s3://\"+upBucketUrl\n",
    "   )"
   ]
  }
 ],
 "metadata": {
  "kernelspec": {
   "display_name": "TensorFlow-1.13.1",
   "language": "python",
   "name": "tensorflow-1.13.1"
  },
  "language_info": {
   "codemirror_mode": {
    "name": "ipython",
    "version": 3
   },
   "file_extension": ".py",
   "mimetype": "text/x-python",
   "name": "python",
   "nbconvert_exporter": "python",
   "pygments_lexer": "ipython3",
   "version": "3.6.4"
  }
 },
 "nbformat": 4,
 "nbformat_minor": 2
}
