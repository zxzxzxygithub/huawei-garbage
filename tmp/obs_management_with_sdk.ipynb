{
 "cells": [
  {
   "cell_type": "markdown",
   "metadata": {},
   "source": [
    "## 使用SDK进行OBS的管理\n",
    "_**基于Modelarts SDK的[OBS](https://storage.huaweicloud.com/obs/?region=cn-north-1#/obs/buckets)管理功能，展示SDK对华为云OBS的增删改等操作.**_\n",
    "\n",
    "---\n",
    "---\n",
    "### 内容\n",
    "\n",
    "1. [session初始化](#session初始化)\n",
    "1. [获取OBS客户端](#获取OBS客户端)\n",
    "1. [获取默认OBS桶](#获取默认OBS桶)\n",
    "1. [创建自己的OBS桶](#创建自己的OBS桶)\n",
    "1. [在OBS中创建文件夹](#在OBS中创建文件夹)\n",
    "1. [上传文件至OBS](#上传文件至OBS)\n",
    "1. [上传文件夹至OBS](#上传文件夹至OBS)\n",
    "1. [从OBS下载文件](#从OBS下载文件)\n",
    "1. [从OBS下载文件夹](#从OBS下载文件夹)\n",
    "1. [删除OBS桶](#删除OBS桶)\n",
    "\n",
    "---"
   ]
  },
  {
   "cell_type": "code",
   "execution_count": 46,
   "metadata": {},
   "outputs": [
    {
     "data": {
      "application/javascript": [
       "IPython.notebook.kernel.execute(\"URL = '\" + window.location + \"'\")\n",
       "\n",
       "from modelarts.session import Session\n",
       "session = Session()\n",
       "obs_client = session.get_obs_client()"
      ],
      "text/plain": [
       "<IPython.core.display.Javascript object>"
      ]
     },
     "metadata": {},
     "output_type": "display_data"
    }
   ],
   "source": [
    "%%javascript\n",
    "IPython.notebook.kernel.execute(\"URL = '\" + window.location + \"'\")\n",
    "\n",
    "from modelarts.session import Session\n",
    "session = Session()\n",
    "obs_client = session.get_obs_client()"
   ]
  },
  {
   "cell_type": "markdown",
   "metadata": {},
   "source": [
    "获取文件路径"
   ]
  },
  {
   "cell_type": "code",
   "execution_count": 3,
   "metadata": {},
   "outputs": [
    {
     "name": "stdout",
     "output_type": "stream",
     "text": [
      "/home/ma-user/work/obs_management_with_sdk\n"
     ]
    }
   ],
   "source": [
    "import os\n",
    "path = os.environ['HOME'] + '/work/' + URL.split('/')[10]\n",
    "print(path)"
   ]
  },
  {
   "cell_type": "markdown",
   "metadata": {},
   "source": [
    "### 获取OBS客户端\n",
    "\n",
    "获取obs_client后，可以对OBS进行全景操作，详细说明请参考[OBS SDK](https://support.huaweicloud.com/sdk-python-devg-obs/zh-cn_topic_0119680901.html)。这一步对后续操作并无影响。"
   ]
  },
  {
   "cell_type": "code",
   "execution_count": 41,
   "metadata": {},
   "outputs": [],
   "source": [
    "obs_client = session.get_obs_client()"
   ]
  },
  {
   "cell_type": "markdown",
   "metadata": {},
   "source": [
    "### 获取默认OBS桶\n",
    "获取默认桶名为 modelarts-{regione_name}-{project_id-md5}的OBS桶；若该OBS桶不存在，则新建。"
   ]
  },
  {
   "cell_type": "code",
   "execution_count": null,
   "metadata": {},
   "outputs": [],
   "source": [
    "default_bucket_name = session.default_bucket()\n",
    "print(default_bucket_name)"
   ]
  },
  {
   "cell_type": "markdown",
   "metadata": {},
   "source": [
    "### 创建自己的OBS桶\n",
    "在notebook中可以通过SDK指令直接对OBS进行操作。例如，创建一个名称为an-obs-sample的桶。"
   ]
  },
  {
   "cell_type": "code",
   "execution_count": null,
   "metadata": {},
   "outputs": [],
   "source": [
    "set_bucket_name = \"test-obs-{}-{}\".format(os.environ['REGION_NAME'], os.environ['PROJECT_ID'][1:10])\n",
    "bucket_name = session.create_bucket(bucket = set_bucket_name)\n",
    "print(bucket_name)"
   ]
  },
  {
   "cell_type": "markdown",
   "metadata": {},
   "source": [
    "### 在OBS中创建文件夹\n",
    "* 创建单层文件夹"
   ]
  },
  {
   "cell_type": "code",
   "execution_count": null,
   "metadata": {},
   "outputs": [],
   "source": [
    "session.create_directory(bucket = bucket_name, directory = 'folder-sample')"
   ]
  },
  {
   "cell_type": "markdown",
   "metadata": {},
   "source": [
    "* 创建多层文件夹"
   ]
  },
  {
   "cell_type": "code",
   "execution_count": null,
   "metadata": {},
   "outputs": [],
   "source": [
    "session.create_directory(bucket = bucket_name,directory = 'top/middle/bottom')"
   ]
  },
  {
   "cell_type": "markdown",
   "metadata": {},
   "source": [
    "### 上传文件至OBS\n",
    "* 上传单个文件"
   ]
  },
  {
   "cell_type": "code",
   "execution_count": null,
   "metadata": {},
   "outputs": [],
   "source": [
    "session.upload_data(bucket_path = '/{}/folder-sample'.format(bucket_name), path = path + '/some-file/a.txt')"
   ]
  },
  {
   "cell_type": "markdown",
   "metadata": {},
   "source": [
    "* 上传多个文件"
   ]
  },
  {
   "cell_type": "code",
   "execution_count": null,
   "metadata": {},
   "outputs": [],
   "source": [
    "file_list = [path + '/some-file/b.txt', path + '/some-file/c.txt']\n",
    "session.upload_data(bucket_path = '/{}/folder-sample'.format(bucket_name), path = file_list)"
   ]
  },
  {
   "cell_type": "markdown",
   "metadata": {},
   "source": [
    "### 上传文件夹至OBS\n",
    "在notebook中新建一个文件夹，例如名称为notebook-folder，然后将该文件夹上传到OBS桶中。注意，请使用绝对路径并且文件夹不能为空。"
   ]
  },
  {
   "cell_type": "code",
   "execution_count": 57,
   "metadata": {},
   "outputs": [
    {
     "ename": "Exception",
     "evalue": "Path ./resized_data does not exist!",
     "output_type": "error",
     "traceback": [
      "\u001b[0;31m---------------------------------------------------------------------------\u001b[0m",
      "\u001b[0;31mException\u001b[0m                                 Traceback (most recent call last)",
      "\u001b[0;32m<ipython-input-57-99eadbe63abe>\u001b[0m in \u001b[0;36m<module>\u001b[0;34m()\u001b[0m\n\u001b[0;32m----> 1\u001b[0;31m \u001b[0msession\u001b[0m\u001b[0;34m.\u001b[0m\u001b[0mupload_data\u001b[0m\u001b[0;34m(\u001b[0m\u001b[0mbucket_path\u001b[0m \u001b[0;34m=\u001b[0m \u001b[0;34m(\u001b[0m\u001b[0;34m\"/xian-zyx-123/train_data_set/resized_data/\"\u001b[0m\u001b[0;34m)\u001b[0m\u001b[0;34m,\u001b[0m \u001b[0mpath\u001b[0m \u001b[0;34m=\u001b[0m \u001b[0;34m\"./resized_data\"\u001b[0m\u001b[0;34m)\u001b[0m\u001b[0;34m\u001b[0m\u001b[0m\n\u001b[0m",
      "\u001b[0;32m~/modelarts-sdk/modelarts/session.py\u001b[0m in \u001b[0;36mupload_data\u001b[0;34m(self, bucket_path, path)\u001b[0m\n\u001b[1;32m    243\u001b[0m         \u001b[0;32melif\u001b[0m \u001b[0misinstance\u001b[0m\u001b[0;34m(\u001b[0m\u001b[0mpath\u001b[0m\u001b[0;34m,\u001b[0m \u001b[0mstr\u001b[0m\u001b[0;34m)\u001b[0m\u001b[0;34m:\u001b[0m\u001b[0;34m\u001b[0m\u001b[0m\n\u001b[1;32m    244\u001b[0m             \u001b[0;32mif\u001b[0m \u001b[0;32mnot\u001b[0m \u001b[0mos\u001b[0m\u001b[0;34m.\u001b[0m\u001b[0mpath\u001b[0m\u001b[0;34m.\u001b[0m\u001b[0mexists\u001b[0m\u001b[0;34m(\u001b[0m\u001b[0mpath\u001b[0m\u001b[0;34m)\u001b[0m\u001b[0;34m:\u001b[0m\u001b[0;34m\u001b[0m\u001b[0m\n\u001b[0;32m--> 245\u001b[0;31m                 \u001b[0;32mraise\u001b[0m \u001b[0mException\u001b[0m\u001b[0;34m(\u001b[0m\u001b[0;34m\"Path \"\u001b[0m \u001b[0;34m+\u001b[0m \u001b[0mpath\u001b[0m \u001b[0;34m+\u001b[0m \u001b[0;34m\" does not exist!\"\u001b[0m\u001b[0;34m)\u001b[0m\u001b[0;34m\u001b[0m\u001b[0m\n\u001b[0m\u001b[1;32m    246\u001b[0m             \u001b[0;32mif\u001b[0m \u001b[0mos\u001b[0m\u001b[0;34m.\u001b[0m\u001b[0mpath\u001b[0m\u001b[0;34m.\u001b[0m\u001b[0misdir\u001b[0m\u001b[0;34m(\u001b[0m\u001b[0mpath\u001b[0m\u001b[0;34m)\u001b[0m\u001b[0;34m:\u001b[0m\u001b[0;34m\u001b[0m\u001b[0m\n\u001b[1;32m    247\u001b[0m                 \u001b[0mself\u001b[0m\u001b[0;34m.\u001b[0m\u001b[0mobs_client\u001b[0m\u001b[0;34m.\u001b[0m\u001b[0mput_directory\u001b[0m\u001b[0;34m(\u001b[0m\u001b[0mbucket_path\u001b[0m\u001b[0;34m=\u001b[0m\u001b[0mbucket_path\u001b[0m\u001b[0;34m,\u001b[0m \u001b[0mlocal_directory\u001b[0m\u001b[0;34m=\u001b[0m\u001b[0mpath\u001b[0m\u001b[0;34m)\u001b[0m\u001b[0;34m\u001b[0m\u001b[0m\n",
      "\u001b[0;31mException\u001b[0m: Path ./resized_data does not exist!"
     ]
    }
   ],
   "source": [
    "session.upload_data(bucket_path = (\"/xian-zyx-123/train_data_set/resized_data/\"), path = \"./resized_data\")"
   ]
  },
  {
   "cell_type": "markdown",
   "metadata": {},
   "source": [
    "### 从OBS下载文件\n",
    "下载文件支持对文件名进行重命名，如将path参数中a.txt改为a_copy.txt。注意，请使用绝对路径并且文件非空。"
   ]
  },
  {
   "cell_type": "code",
   "execution_count": 51,
   "metadata": {},
   "outputs": [
    {
     "ename": "NameError",
     "evalue": "name 'bucket_name' is not defined",
     "output_type": "error",
     "traceback": [
      "\u001b[0;31m---------------------------------------------------------------------------\u001b[0m",
      "\u001b[0;31mNameError\u001b[0m                                 Traceback (most recent call last)",
      "\u001b[0;32m<ipython-input-51-c123a5d1f4a2>\u001b[0m in \u001b[0;36m<module>\u001b[0;34m()\u001b[0m\n\u001b[0;32m----> 1\u001b[0;31m \u001b[0msession\u001b[0m\u001b[0;34m.\u001b[0m\u001b[0mdownload_data\u001b[0m\u001b[0;34m(\u001b[0m\u001b[0mbucket_path\u001b[0m \u001b[0;34m=\u001b[0m \u001b[0;34m'/{}/folder-sample/a.txt'\u001b[0m\u001b[0;34m.\u001b[0m\u001b[0mformat\u001b[0m\u001b[0;34m(\u001b[0m\u001b[0mbucket_name\u001b[0m\u001b[0;34m)\u001b[0m\u001b[0;34m,\u001b[0m \u001b[0mpath\u001b[0m \u001b[0;34m=\u001b[0m \u001b[0mpath\u001b[0m \u001b[0;34m+\u001b[0m \u001b[0;34m'/a_copy.txt'\u001b[0m\u001b[0;34m)\u001b[0m\u001b[0;34m\u001b[0m\u001b[0m\n\u001b[0m",
      "\u001b[0;31mNameError\u001b[0m: name 'bucket_name' is not defined"
     ]
    }
   ],
   "source": [
    "session.download_data(bucket_path = '/{}/folder-sample/a.txt'.format(bucket_name), path = path + '/a_copy.txt')"
   ]
  },
  {
   "cell_type": "markdown",
   "metadata": {},
   "source": [
    "### 从OBS下载文件夹\n",
    "参数path为本地文件路径，如下示例中将把folder-sample目录下载到本地。注意，请在OBS文件夹的最后添加 '/'"
   ]
  },
  {
   "cell_type": "code",
   "execution_count": 43,
   "metadata": {},
   "outputs": [
    {
     "name": "stdout",
     "output_type": "stream",
     "text": [
      "Successfully download file xian-zyx-123/train_data_set/data/0 from OBS to local ./train3\n",
      "第1个文件夹\n",
      "Successfully download file xian-zyx-123/train_data_set/data/1 from OBS to local ./train3\n",
      "第2个文件夹\n",
      "Successfully download file xian-zyx-123/train_data_set/data/2 from OBS to local ./train3\n",
      "第3个文件夹\n",
      "Successfully download file xian-zyx-123/train_data_set/data/3 from OBS to local ./train3\n",
      "第4个文件夹\n",
      "Successfully download file xian-zyx-123/train_data_set/data/4 from OBS to local ./train3\n",
      "第5个文件夹\n",
      "Successfully download file xian-zyx-123/train_data_set/data/5 from OBS to local ./train3\n",
      "第6个文件夹\n",
      "Successfully download file xian-zyx-123/train_data_set/data/6 from OBS to local ./train3\n",
      "第7个文件夹\n",
      "Successfully download file xian-zyx-123/train_data_set/data/7 from OBS to local ./train3\n",
      "第8个文件夹\n",
      "Successfully download file xian-zyx-123/train_data_set/data/8 from OBS to local ./train3\n",
      "第9个文件夹\n",
      "Successfully download file xian-zyx-123/train_data_set/data/9 from OBS to local ./train3\n",
      "第10个文件夹\n"
     ]
    }
   ],
   "source": [
    "n = 0\n",
    "while(n<=9):\n",
    "    session.download_data(bucket_path = ('/{}/train_data_set/data/' + str(n) + '/').format('xian-zyx-123'),path ='./train3')\n",
    "    n += 1\n",
    "    print(\"第\"+str(n) +\"个文件夹\")\n",
    "\n"
   ]
  },
  {
   "cell_type": "markdown",
   "metadata": {},
   "source": [
    "### 删除OBS桶\n",
    "将删除桶中所有对象以及桶。"
   ]
  },
  {
   "cell_type": "code",
   "execution_count": null,
   "metadata": {},
   "outputs": [],
   "source": [
    "session.delete_bucket(bucket = bucket_name)"
   ]
  }
 ],
 "metadata": {
  "kernelspec": {
   "display_name": "TensorFlow-1.13.1",
   "language": "python",
   "name": "tensorflow-1.13.1"
  },
  "language_info": {
   "codemirror_mode": {
    "name": "ipython",
    "version": 3
   },
   "file_extension": ".py",
   "mimetype": "text/x-python",
   "name": "python",
   "nbconvert_exporter": "python",
   "pygments_lexer": "ipython3",
   "version": "3.6.4"
  }
 },
 "nbformat": 4,
 "nbformat_minor": 2
}
