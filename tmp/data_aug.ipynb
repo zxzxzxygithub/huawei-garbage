{
 "cells": [
  {
   "cell_type": "code",
   "execution_count": 19,
   "metadata": {},
   "outputs": [],
   "source": [
    "# 1. 创建子文件夹\n",
    "# 2. 文件移动到子文件夹\n",
    "# 3. 增广\n",
    "# 4. 删除子文件夹"
   ]
  },
  {
   "cell_type": "code",
   "execution_count": 5,
   "metadata": {},
   "outputs": [],
   "source": [
    "# 3. 增广\n",
    "from keras.preprocessing.image import ImageDataGenerator, array_to_img, img_to_array, load_img\n",
    "import numpy as np\n",
    "# /home/ma-user/work/obs_management_with_sdk/train14/24\n",
    "def data_aug(givenDir, batch_size, dupSize):\n",
    "    datagen = ImageDataGenerator(\n",
    "            rotation_range=40,\n",
    "            width_shift_range=0.2,\n",
    "            height_shift_range=0.2,\n",
    "            shear_range=0.2,\n",
    "            zoom_range=0.2,\n",
    "            horizontal_flip=True,\n",
    "            fill_mode='nearest')\n",
    "\n",
    "    gener=datagen.flow_from_directory(givenDir,#类别子文件夹的上一级文件夹\n",
    "                                             batch_size= batch_size,\n",
    "                                             shuffle=False,\n",
    "                                             save_to_dir=givenDir,\n",
    "                                             save_prefix='trans_',\n",
    "                                             save_format='jpg')\n",
    "    for i in range(dupSize):\n",
    "        gener.next()"
   ]
  },
  {
   "cell_type": "code",
   "execution_count": 18,
   "metadata": {},
   "outputs": [],
   "source": [
    "# 1。新建一个同名子文件夹,并返回这个新文件夹的路径\n",
    "def get_filePath_fileName(dirUrl):\n",
    "    \"\"\"\n",
    "    获取文件路径， 文件名\n",
    "    :param fileUrl:\n",
    "    :return:\n",
    "    \"\"\"\n",
    "    filepath, tmpfilename = os.path.split(dirUrl)\n",
    "    #print(filepath)\n",
    "    #print(tmpfilename)\n",
    "    return filepath, tmpfilename\n",
    "\n",
    "# 1。新建一个同名子文件夹,并返回这个新文件夹的路径\n",
    "def makeSameNameSubDir(givenDir):\n",
    "    filepath, tmpfilename = get_filePath_fileName(givenDir)\n",
    "    newPath = filepath + '/'+ tmpfilename + '/'+ tmpfilename\n",
    "    if not os.path.exists(newPath):\n",
    "      os.makedirs(newPath)\n",
    "    return newPath\n",
    "\n",
    "# 1。遍历所有的文件夹,给它的子文件夹创建同名子文件夹\n",
    "import os,shutil\n",
    "def walkFile(file):\n",
    "    # arr存储所有的第一层子文件夹\n",
    "    arr = []\n",
    "    twoLevel = []\n",
    "    for root, dirs, files in os.walk(file):\n",
    "        # root 表示当前正在访问的文件夹路径\n",
    "        # dirs 表示该文件夹下的子目录名list\n",
    "        # files 表示该文件夹下的文件list\n",
    "        \n",
    "        # 遍历所有的文件夹\n",
    "        for d in dirs:\n",
    "            if not 'ipynb_checkpoints' in d:\n",
    "                subDir = os.path.join(root, d)\n",
    "                arr.append(subDir);\n",
    "                print(subDir)\n",
    "                print('all dir')\n",
    "            else: \n",
    "                os.rmdir(os.path.join(root, d))\n",
    "\n",
    "    for i in arr:\n",
    "        # 创建同名子文件夹（第二层）,并返回该子文件夹名称\n",
    "        subArr = []\n",
    "        subArr.append(i)\n",
    "        subDirpath = makeSameNameSubDir(i)\n",
    "        subArr.append(subDirpath)\n",
    "        print(subDirpath)\n",
    "        twoLevel.append(subArr)\n",
    "    for j in twoLevel:\n",
    "        oneDir = j[0]\n",
    "        twoDir = j[1]\n",
    "        print('oneDir' + oneDir)\n",
    "        print('twoDir' + twoDir)\n",
    "        dirs = os.listdir( oneDir )\n",
    "        for f in dirs:\n",
    "            print('f'+f)\n",
    "            subFile = os.path.join(oneDir, f)\n",
    "            if os.path.isfile(subFile):\n",
    "             #2. 文件移动到子文件夹   \n",
    "             shutil.move(subFile,twoDir)\n",
    "             print(\"move\" + subFile)\n",
    "        #3. 增广\n",
    "        data_aug(oneDir,1,4)\n",
    "        #4. 删除原文件 \n",
    "        shutil.rmtree(twoDir)\n",
    "           "
   ]
  },
  {
   "cell_type": "code",
   "execution_count": 19,
   "metadata": {},
   "outputs": [
    {
     "name": "stdout",
     "output_type": "stream",
     "text": [
      "./aug_data5/a1\n",
      "all dir\n",
      "./aug_data5/a2\n",
      "all dir\n",
      "./aug_data5/a1/a1\n",
      "./aug_data5/a2/a2\n",
      "oneDir./aug_data5/a1\n",
      "twoDir./aug_data5/a1/a1\n",
      "fimg_3008-Copy1.jpg\n",
      "move./aug_data5/a1/img_3008-Copy1.jpg\n",
      "fa1\n",
      "Found 1 images belonging to 1 classes.\n",
      "oneDir./aug_data5/a2\n",
      "twoDir./aug_data5/a2/a2\n",
      "ftimg (16).jpeg\n",
      "move./aug_data5/a2/timg (16).jpeg\n",
      "ftimg (15).jpeg\n",
      "move./aug_data5/a2/timg (15).jpeg\n",
      "fa2\n",
      "Found 2 images belonging to 1 classes.\n"
     ]
    }
   ],
   "source": [
    "walkFile('./aug_data5')"
   ]
  },
  {
   "cell_type": "code",
   "execution_count": 17,
   "metadata": {},
   "outputs": [],
   "source": [
    "\n"
   ]
  },
  {
   "cell_type": "code",
   "execution_count": 15,
   "metadata": {},
   "outputs": [],
   "source": []
  },
  {
   "cell_type": "code",
   "execution_count": 18,
   "metadata": {},
   "outputs": [
    {
     "name": "stdout",
     "output_type": "stream",
     "text": [
      "Found 2 images belonging to 2 classes.\n"
     ]
    }
   ],
   "source": [
    "data_aug('/home/ma-user/work/aug_data5/a1', 4, 2)"
   ]
  },
  {
   "cell_type": "code",
   "execution_count": 16,
   "metadata": {},
   "outputs": [],
   "source": []
  },
  {
   "cell_type": "code",
   "execution_count": null,
   "metadata": {},
   "outputs": [],
   "source": [
    "walkFile('/home/ma-user/work/aug_data5')"
   ]
  },
  {
   "cell_type": "code",
   "execution_count": 49,
   "metadata": {},
   "outputs": [],
   "source": [
    "# 遍历所有的文件夹,给它的子文件夹创建同名子文件夹\n",
    "import os\n",
    "def removeFirstLevelFiles(rootdir):\n",
    "    list = os.listdir(rootdir) #列出文件夹下所有的目录与文件\n",
    "    for i in range(0,len(list)):\n",
    "       firstLevelDir = os.path.join(rootdir,list[i])\n",
    "       if os.path.isdir(firstLevelDir) and not  'ipynb_checkpoints' in firstLevelDir:\n",
    "        list2 = os.listdir(firstLevelDir) #列出文件夹下所有的目录与文件\n",
    "        for j in range(0,len(list2)):\n",
    "           totalPath = os.path.join(firstLevelDir,list2[j])\n",
    "            #你想对文件的操作\n",
    "           if os.path.isfile(totalPath):\n",
    "             print('removed file---->'+totalPath)\n",
    "             os.remove(totalPath)    "
   ]
  },
  {
   "cell_type": "code",
   "execution_count": null,
   "metadata": {},
   "outputs": [],
   "source": [
    "removeFirstLevelFiles('./aug_data5')"
   ]
  },
  {
   "cell_type": "code",
   "execution_count": null,
   "metadata": {},
   "outputs": [],
   "source": []
  },
  {
   "cell_type": "code",
   "execution_count": null,
   "metadata": {},
   "outputs": [],
   "source": [
    "get_filePath_fileName('/home/ma-user/work/obs_management_with_sdk/train13/24')"
   ]
  },
  {
   "cell_type": "code",
   "execution_count": null,
   "metadata": {},
   "outputs": [],
   "source": [
    "# 给定一个文件夹，创建同名子文件夹\n",
    "givenDir = '/home/ma-user/work/obs_management_with_sdk/train13/24'\n",
    "makeSameNameSubDir(givenDir)"
   ]
  },
  {
   "cell_type": "code",
   "execution_count": null,
   "metadata": {},
   "outputs": [],
   "source": [
    "walkFile('/home/ma-user/work/obs_management_with_sdk/train13')"
   ]
  },
  {
   "cell_type": "code",
   "execution_count": 20,
   "metadata": {},
   "outputs": [
    {
     "name": "stdout",
     "output_type": "stream",
     "text": [
      "a\n",
      "a/a\n",
      "b\n",
      "b/b\n"
     ]
    }
   ],
   "source": [
    "arr = [['a','a/a'],['b','b/b']]\n",
    "for item in  arr:\n",
    "    print(item[0])\n",
    "    print(item[1])"
   ]
  },
  {
   "cell_type": "code",
   "execution_count": null,
   "metadata": {},
   "outputs": [],
   "source": []
  }
 ],
 "metadata": {
  "kernelspec": {
   "display_name": "TensorFlow-1.13.1",
   "language": "python",
   "name": "tensorflow-1.13.1"
  },
  "language_info": {
   "codemirror_mode": {
    "name": "ipython",
    "version": 3
   },
   "file_extension": ".py",
   "mimetype": "text/x-python",
   "name": "python",
   "nbconvert_exporter": "python",
   "pygments_lexer": "ipython3",
   "version": "3.6.4"
  }
 },
 "nbformat": 4,
 "nbformat_minor": 2
}
